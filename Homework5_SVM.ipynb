{
 "cells": [
  {
   "cell_type": "markdown",
   "id": "c9822f99",
   "metadata": {},
   "source": [
    "# IC - Homework sobre SVMs\n",
    "\n",
    "1.a) LinearSVC: 2 erros \n",
    "     SVC with linear kernel, SVC with RBF kernel: 1 erro\n",
    "     SVC with polynomial (degree 3) kernel: 0\n",
    "    \n",
    "  b) SVC with linear kernel, pois, apesar de ter um erro, possui uma margem maior entre os conjuntos.\n",
    "  \n",
    "2.O parâmetro C é inversamente proporcional à complexidade da regularização, então deve-se diminuir o valor de C [SVC - Scikit-Learn](https://scikit-learn.org/stable/modules/generated/sklearn.svm.SVC.html)\n",
    "\n",
    "3.\n",
    "\n",
    "4. "
   ]
  },
  {
   "cell_type": "code",
   "execution_count": null,
   "id": "d43571ad",
   "metadata": {},
   "outputs": [],
   "source": []
  }
 ],
 "metadata": {
  "kernelspec": {
   "display_name": "Python 3 (ipykernel)",
   "language": "python",
   "name": "python3"
  },
  "language_info": {
   "codemirror_mode": {
    "name": "ipython",
    "version": 3
   },
   "file_extension": ".py",
   "mimetype": "text/x-python",
   "name": "python",
   "nbconvert_exporter": "python",
   "pygments_lexer": "ipython3",
   "version": "3.10.6"
  }
 },
 "nbformat": 4,
 "nbformat_minor": 5
}
